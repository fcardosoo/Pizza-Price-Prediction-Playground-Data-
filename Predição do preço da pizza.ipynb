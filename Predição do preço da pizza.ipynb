{
 "cells": [
  {
   "cell_type": "markdown",
   "id": "1ed89499",
   "metadata": {},
   "source": [
    "# Pizza Price Prediction (Playground Data)"
   ]
  },
  {
   "cell_type": "markdown",
   "id": "f5483200",
   "metadata": {},
   "source": [
    "This dataset I made is for predicting the prices of pizza, the dataset is not complete at all, but you can use this dataset for learning or study or maybe you want to upgrade the data by yourself, is okay for me, hopefully, this dataset is useful for you guys, and use this dataset wisely.\n",
    "\n",
    "https://www.kaggle.com/datasets/knightbearr/pizza-price-prediction?resource=download\n",
    "\n",
    "Github link: Pizza Price Dataset <https://github.com/knightbearr/Guessing-Prices-Pizza>\n",
    "\n",
    "Notebook: Pizza Price Prediction V.2.0 <https://www.kaggle.com/knightbearr/pizza-price-prediction-xgb-knightbearr>\n",
    "\n",
    "Web Application: Pizza Price Prediction Web Application\n",
    "\n",
    "If you want to know version 1 of my pizza dataset, you can see version 5 in my notebook, thanks in advance!"
   ]
  },
  {
   "cell_type": "code",
   "execution_count": null,
   "id": "74169f17",
   "metadata": {},
   "outputs": [],
   "source": []
  }
 ],
 "metadata": {
  "kernelspec": {
   "display_name": "Python 3 (ipykernel)",
   "language": "python",
   "name": "python3"
  },
  "language_info": {
   "codemirror_mode": {
    "name": "ipython",
    "version": 3
   },
   "file_extension": ".py",
   "mimetype": "text/x-python",
   "name": "python",
   "nbconvert_exporter": "python",
   "pygments_lexer": "ipython3",
   "version": "3.10.9"
  }
 },
 "nbformat": 4,
 "nbformat_minor": 5
}
