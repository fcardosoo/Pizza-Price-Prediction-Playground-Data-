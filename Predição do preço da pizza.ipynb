{
 "cells": [
  {
   "cell_type": "markdown",
   "id": "6eebfdb3",
   "metadata": {},
   "source": [
    "# Pizza Price Prediction (Playground Data)"
   ]
  },
  {
   "cell_type": "markdown",
   "id": "59983000",
   "metadata": {},
   "source": [
    "This dataset I made is for predicting the prices of pizza, the dataset is not complete at all, but you can use this dataset for learning or study or maybe you want to upgrade the data by yourself, is okay for me, hopefully, this dataset is useful for you guys, and use this dataset wisely.\n",
    "\n",
    "https://www.kaggle.com/datasets/knightbearr/pizza-price-prediction?resource=download\n",
    "\n",
    "Github link: Pizza Price Dataset <https://github.com/knightbearr/Guessing-Prices-Pizza>\n",
    "\n",
    "Notebook: Pizza Price Prediction V.2.0 <https://www.kaggle.com/knightbearr/pizza-price-prediction-xgb-knightbearr>\n",
    "\n",
    "Web Application: Pizza Price Prediction Web Application <https://share.streamlit.io/knightbearr/pizza-price-prediction-web-application/main/main.py>\n",
    "\n",
    "If you want to know version 1 of my pizza dataset, you can see version 5 in my notebook, thanks in advance!"
   ]
  },
  {
   "cell_type": "markdown",
   "id": "5eccb687",
   "metadata": {},
   "source": [
    "## 1.1 Bibliotecas"
   ]
  },
  {
   "cell_type": "code",
   "execution_count": 1,
   "id": "8abdf3c1",
   "metadata": {},
   "outputs": [],
   "source": [
    "import pandas as pd\n",
    "import matplotlib.pyplot as plt\n",
    "import seaborn as sns\n",
    "import numpy as np\n",
    "sns.set_theme(color_codes=True)"
   ]
  },
  {
   "cell_type": "code",
   "execution_count": 2,
   "id": "8a1c5ef4",
   "metadata": {},
   "outputs": [
    {
     "data": {
      "text/html": [
       "<div>\n",
       "<style scoped>\n",
       "    .dataframe tbody tr th:only-of-type {\n",
       "        vertical-align: middle;\n",
       "    }\n",
       "\n",
       "    .dataframe tbody tr th {\n",
       "        vertical-align: top;\n",
       "    }\n",
       "\n",
       "    .dataframe thead th {\n",
       "        text-align: right;\n",
       "    }\n",
       "</style>\n",
       "<table border=\"1\" class=\"dataframe\">\n",
       "  <thead>\n",
       "    <tr style=\"text-align: right;\">\n",
       "      <th></th>\n",
       "      <th>company</th>\n",
       "      <th>price_rupiah</th>\n",
       "      <th>diameter</th>\n",
       "      <th>topping</th>\n",
       "      <th>variant</th>\n",
       "      <th>size</th>\n",
       "      <th>extra_sauce</th>\n",
       "      <th>extra_cheese</th>\n",
       "    </tr>\n",
       "  </thead>\n",
       "  <tbody>\n",
       "    <tr>\n",
       "      <th>0</th>\n",
       "      <td>A</td>\n",
       "      <td>Rp235,000</td>\n",
       "      <td>22.0</td>\n",
       "      <td>chicken</td>\n",
       "      <td>double_signature</td>\n",
       "      <td>jumbo</td>\n",
       "      <td>yes</td>\n",
       "      <td>yes</td>\n",
       "    </tr>\n",
       "    <tr>\n",
       "      <th>1</th>\n",
       "      <td>A</td>\n",
       "      <td>Rp198,000</td>\n",
       "      <td>20.0</td>\n",
       "      <td>papperoni</td>\n",
       "      <td>double_signature</td>\n",
       "      <td>jumbo</td>\n",
       "      <td>yes</td>\n",
       "      <td>yes</td>\n",
       "    </tr>\n",
       "    <tr>\n",
       "      <th>2</th>\n",
       "      <td>A</td>\n",
       "      <td>Rp120,000</td>\n",
       "      <td>16.0</td>\n",
       "      <td>mushrooms</td>\n",
       "      <td>double_signature</td>\n",
       "      <td>reguler</td>\n",
       "      <td>yes</td>\n",
       "      <td>yes</td>\n",
       "    </tr>\n",
       "    <tr>\n",
       "      <th>3</th>\n",
       "      <td>A</td>\n",
       "      <td>Rp155,000</td>\n",
       "      <td>14.0</td>\n",
       "      <td>smoked beef</td>\n",
       "      <td>double_signature</td>\n",
       "      <td>reguler</td>\n",
       "      <td>yes</td>\n",
       "      <td>no</td>\n",
       "    </tr>\n",
       "    <tr>\n",
       "      <th>4</th>\n",
       "      <td>A</td>\n",
       "      <td>Rp248,000</td>\n",
       "      <td>18.0</td>\n",
       "      <td>mozzarella</td>\n",
       "      <td>double_signature</td>\n",
       "      <td>jumbo</td>\n",
       "      <td>yes</td>\n",
       "      <td>no</td>\n",
       "    </tr>\n",
       "  </tbody>\n",
       "</table>\n",
       "</div>"
      ],
      "text/plain": [
       "  company price_rupiah  diameter      topping           variant     size  \\\n",
       "0       A    Rp235,000      22.0      chicken  double_signature    jumbo   \n",
       "1       A    Rp198,000      20.0    papperoni  double_signature    jumbo   \n",
       "2       A    Rp120,000      16.0    mushrooms  double_signature  reguler   \n",
       "3       A    Rp155,000      14.0  smoked beef  double_signature  reguler   \n",
       "4       A    Rp248,000      18.0   mozzarella  double_signature    jumbo   \n",
       "\n",
       "  extra_sauce extra_cheese  \n",
       "0         yes          yes  \n",
       "1         yes          yes  \n",
       "2         yes          yes  \n",
       "3         yes           no  \n",
       "4         yes           no  "
      ]
     },
     "execution_count": 2,
     "metadata": {},
     "output_type": "execute_result"
    }
   ],
   "source": [
    "df = pd.read_csv('pizza_v1.csv')\n",
    "df.head()"
   ]
  },
  {
   "cell_type": "markdown",
   "id": "14ae0896",
   "metadata": {},
   "source": [
    "## 1.2 Pré processamento dos dados"
   ]
  },
  {
   "cell_type": "code",
   "execution_count": 4,
   "id": "b59d0239",
   "metadata": {},
   "outputs": [],
   "source": [
    "# Remover \"Rp\" e a vísgula da coluna \"price_rupiah\"\n",
    "df['price_rupiah'] = df['price_rupiah'].str.replace('Rp', '').str.replace(',', '')"
   ]
  },
  {
   "cell_type": "code",
   "execution_count": 5,
   "id": "4c898686",
   "metadata": {},
   "outputs": [
    {
     "data": {
      "text/html": [
       "<div>\n",
       "<style scoped>\n",
       "    .dataframe tbody tr th:only-of-type {\n",
       "        vertical-align: middle;\n",
       "    }\n",
       "\n",
       "    .dataframe tbody tr th {\n",
       "        vertical-align: top;\n",
       "    }\n",
       "\n",
       "    .dataframe thead th {\n",
       "        text-align: right;\n",
       "    }\n",
       "</style>\n",
       "<table border=\"1\" class=\"dataframe\">\n",
       "  <thead>\n",
       "    <tr style=\"text-align: right;\">\n",
       "      <th></th>\n",
       "      <th>company</th>\n",
       "      <th>price_rupiah</th>\n",
       "      <th>diameter</th>\n",
       "      <th>topping</th>\n",
       "      <th>variant</th>\n",
       "      <th>size</th>\n",
       "      <th>extra_sauce</th>\n",
       "      <th>extra_cheese</th>\n",
       "    </tr>\n",
       "  </thead>\n",
       "  <tbody>\n",
       "    <tr>\n",
       "      <th>0</th>\n",
       "      <td>A</td>\n",
       "      <td>235000</td>\n",
       "      <td>22.0</td>\n",
       "      <td>chicken</td>\n",
       "      <td>double_signature</td>\n",
       "      <td>jumbo</td>\n",
       "      <td>yes</td>\n",
       "      <td>yes</td>\n",
       "    </tr>\n",
       "    <tr>\n",
       "      <th>1</th>\n",
       "      <td>A</td>\n",
       "      <td>198000</td>\n",
       "      <td>20.0</td>\n",
       "      <td>papperoni</td>\n",
       "      <td>double_signature</td>\n",
       "      <td>jumbo</td>\n",
       "      <td>yes</td>\n",
       "      <td>yes</td>\n",
       "    </tr>\n",
       "    <tr>\n",
       "      <th>2</th>\n",
       "      <td>A</td>\n",
       "      <td>120000</td>\n",
       "      <td>16.0</td>\n",
       "      <td>mushrooms</td>\n",
       "      <td>double_signature</td>\n",
       "      <td>reguler</td>\n",
       "      <td>yes</td>\n",
       "      <td>yes</td>\n",
       "    </tr>\n",
       "    <tr>\n",
       "      <th>3</th>\n",
       "      <td>A</td>\n",
       "      <td>155000</td>\n",
       "      <td>14.0</td>\n",
       "      <td>smoked beef</td>\n",
       "      <td>double_signature</td>\n",
       "      <td>reguler</td>\n",
       "      <td>yes</td>\n",
       "      <td>no</td>\n",
       "    </tr>\n",
       "    <tr>\n",
       "      <th>4</th>\n",
       "      <td>A</td>\n",
       "      <td>248000</td>\n",
       "      <td>18.0</td>\n",
       "      <td>mozzarella</td>\n",
       "      <td>double_signature</td>\n",
       "      <td>jumbo</td>\n",
       "      <td>yes</td>\n",
       "      <td>no</td>\n",
       "    </tr>\n",
       "  </tbody>\n",
       "</table>\n",
       "</div>"
      ],
      "text/plain": [
       "  company price_rupiah  diameter      topping           variant     size  \\\n",
       "0       A       235000      22.0      chicken  double_signature    jumbo   \n",
       "1       A       198000      20.0    papperoni  double_signature    jumbo   \n",
       "2       A       120000      16.0    mushrooms  double_signature  reguler   \n",
       "3       A       155000      14.0  smoked beef  double_signature  reguler   \n",
       "4       A       248000      18.0   mozzarella  double_signature    jumbo   \n",
       "\n",
       "  extra_sauce extra_cheese  \n",
       "0         yes          yes  \n",
       "1         yes          yes  \n",
       "2         yes          yes  \n",
       "3         yes           no  \n",
       "4         yes           no  "
      ]
     },
     "execution_count": 5,
     "metadata": {},
     "output_type": "execute_result"
    }
   ],
   "source": [
    "df.head()"
   ]
  },
  {
   "cell_type": "code",
   "execution_count": 7,
   "id": "1f859519",
   "metadata": {},
   "outputs": [
    {
     "data": {
      "text/plain": [
       "company          5\n",
       "price_rupiah    43\n",
       "topping         12\n",
       "variant         20\n",
       "size             6\n",
       "extra_sauce      2\n",
       "extra_cheese     2\n",
       "dtype: int64"
      ]
     },
     "execution_count": 7,
     "metadata": {},
     "output_type": "execute_result"
    }
   ],
   "source": [
    "# Verificar os número de valores únicos no tipo de dados do objeto\n",
    "df.select_dtypes(include='object').nunique()"
   ]
  },
  {
   "cell_type": "code",
   "execution_count": 8,
   "id": "98d21122",
   "metadata": {},
   "outputs": [],
   "source": [
    "# converter a coluna \"Valor\" para inteiro\n",
    "df['price_rupiah'] = df['price_rupiah'].astype(int)"
   ]
  },
  {
   "cell_type": "markdown",
   "id": "85f38093",
   "metadata": {},
   "source": [
    "## 1.3 Variações de Segmento de Pizza"
   ]
  },
  {
   "cell_type": "code",
   "execution_count": 9,
   "id": "1f2e45a3",
   "metadata": {},
   "outputs": [
    {
     "data": {
      "text/plain": [
       "array(['double_signature', 'american_favorite', 'super_supreme',\n",
       "       'meat_lovers', 'double_mix', 'classic', 'crunchy', 'new_york',\n",
       "       'double_decker', 'spicy_tuna', 'BBQ_meat_fiesta', 'BBQ_sausage',\n",
       "       'extravaganza', 'meat_eater', 'gournet_greek', 'italian_veggie',\n",
       "       'thai_veggie', 'american_classic', 'neptune_tuna', 'spicy tuna'],\n",
       "      dtype=object)"
      ]
     },
     "execution_count": 9,
     "metadata": {},
     "output_type": "execute_result"
    }
   ],
   "source": [
    "df.variant.unique()"
   ]
  },
  {
   "cell_type": "code",
   "execution_count": 10,
   "id": "14cfbf34",
   "metadata": {},
   "outputs": [],
   "source": [
    "# definir função para segmentar nomes de pizza em tipos\n",
    "def segment_variant(variant):\n",
    "    if 'veggie' in variant:\n",
    "        return 'Vegetarian'\n",
    "    elif 'meat' in variant or 'BBQ' in variant:\n",
    "        return 'Meat'\n",
    "    elif 'tuna' in variant:\n",
    "        return 'Seafood'\n",
    "    else:\n",
    "        return 'Other'\n",
    "\n",
    "#aplique a função à coluna 'Pizza Name' para criar uma nova coluna 'Pizza Type'\n",
    "df['variant'] = df['variant'].apply(segment_variant)"
   ]
  },
  {
   "cell_type": "code",
   "execution_count": 11,
   "id": "636d0e5a",
   "metadata": {},
   "outputs": [
    {
     "data": {
      "text/plain": [
       "<Axes: >"
      ]
     },
     "execution_count": 11,
     "metadata": {},
     "output_type": "execute_result"
    },
    {
     "data": {
      "image/png": "[encoded data removed]",
      "text/plain": [
       "<Figure size 1000x500 with 1 Axes>"
      ]
     },
     "metadata": {},
     "output_type": "display_data"
    }
   ],
   "source": [
    "plt.figure(figsize=(10,5))\n",
    "df['variant'].value_counts().plot(kind='bar')"
   ]
  },
  {
   "cell_type": "markdown",
   "id": "de2697d3",
   "metadata": {},
   "source": [
    "# 2.0 Análise exploratória dos dados"
   ]
  },
  {
   "cell_type": "code",
   "execution_count": null,
   "id": "35ebc97f",
   "metadata": {},
   "outputs": [],
   "source": [
    "# lista de categorical variables to plot\n",
    "cat_vars = ['company', 'topping', 'variant', 'size', 'extra_sauce', 'extra_cheese']\n",
    "\n",
    "# create figure with subplots\n",
    "fig, axs = plt.subplots(nrows=2, ncols=3, figsize=(20, 10))\n",
    "axs = axs.ravel()\n",
    "\n",
    "# create barplot for each categorical variable\n",
    "for i, var in enumerate(cat_vars):\n",
    "    sns.barplot(x=var, y='price_rupiah', data=df, ax=axs[i], estimator=np.mean)\n",
    "    axs[i].set_xticklabels(axs[i].get_xticklabels(), rotation=90)\n",
    "\n",
    "# adjust spacing between subplots\n",
    "fig.tight_layout()\n",
    "\n",
    "# show plot\n",
    "plt.show()"
   ]
  }
 ],
 "metadata": {
  "kernelspec": {
   "display_name": "Python 3 (ipykernel)",
   "language": "python",
   "name": "python3"
  },
  "language_info": {
   "codemirror_mode": {
    "name": "ipython",
    "version": 3
   },
   "file_extension": ".py",
   "mimetype": "text/x-python",
   "name": "python",
   "nbconvert_exporter": "python",
   "pygments_lexer": "ipython3",
   "version": "3.10.9"
  }
 },
 "nbformat": 4,
 "nbformat_minor": 5
}
