{
 "cells": [
  {
   "cell_type": "markdown",
   "id": "21b3ba8f",
   "metadata": {},
   "source": [
    "# Pizza Price Prediction (Playground Data)"
   ]
  },
  {
   "cell_type": "markdown",
   "id": "2766bbd9",
   "metadata": {},
   "source": [
    "This dataset I made is for predicting the prices of pizza, the dataset is not complete at all, but you can use this dataset for learning or study or maybe you want to upgrade the data by yourself, is okay for me, hopefully, this dataset is useful for you guys, and use this dataset wisely.\n",
    "\n",
    "https://www.kaggle.com/datasets/knightbearr/pizza-price-prediction?resource=download\n",
    "\n",
    "Github link: Pizza Price Dataset <https://github.com/knightbearr/Guessing-Prices-Pizza>\n",
    "\n",
    "Notebook: Pizza Price Prediction V.2.0 <https://www.kaggle.com/knightbearr/pizza-price-prediction-xgb-knightbearr>\n",
    "\n",
    "Web Application: Pizza Price Prediction Web Application <https://share.streamlit.io/knightbearr/pizza-price-prediction-web-application/main/main.py>\n",
    "\n",
    "If you want to know version 1 of my pizza dataset, you can see version 5 in my notebook, thanks in advance!"
   ]
  },
  {
   "cell_type": "markdown",
   "id": "7deb2215",
   "metadata": {},
   "source": [
    "## 1.1 Bibliotecas"
   ]
  },
  {
   "cell_type": "code",
   "execution_count": 1,
   "id": "a9532f3c",
   "metadata": {},
   "outputs": [],
   "source": [
    "import pandas as pd\n",
    "import matplotlib.pyplot as plt\n",
    "import seaborn as sns\n",
    "import numpy as np\n",
    "sns.set_theme(color_codes=True)"
   ]
  },
  {
   "cell_type": "code",
   "execution_count": null,
   "id": "fce01214",
   "metadata": {},
   "outputs": [],
   "source": []
  }
 ],
 "metadata": {
  "kernelspec": {
   "display_name": "Python 3 (ipykernel)",
   "language": "python",
   "name": "python3"
  },
  "language_info": {
   "codemirror_mode": {
    "name": "ipython",
    "version": 3
   },
   "file_extension": ".py",
   "mimetype": "text/x-python",
   "name": "python",
   "nbconvert_exporter": "python",
   "pygments_lexer": "ipython3",
   "version": "3.10.9"
  }
 },
 "nbformat": 4,
 "nbformat_minor": 5
}
